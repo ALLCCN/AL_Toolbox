{
 "cells": [
  {
   "cell_type": "markdown",
   "metadata": {},
   "source": [
    "# Init data"
   ]
  },
  {
   "cell_type": "code",
   "execution_count": 3,
   "metadata": {},
   "outputs": [],
   "source": [
    "friends = [\n",
    "    {'name': \"test01\", 'hhh': 232, 'cache': 23.1, 'active': 24},\n",
    "    {'name': \"test02\", 'hhh': 12, 'cache': 12, 'active': 3},\n",
    "    {'name': \"test03\", 'hhh': 123, 'cache': 7, 'active': 14},\n",
    "    {'name': \"test04\", 'hhh': 85, 'cache': 31, 'active': 21},\n",
    "    {'name': \"test05\", 'hhh': 300, 'cache': 25.4, 'active': 3}\n",
    "]\n",
    "\n",
    "weight = {\n",
    "    'hhh': 0.3,\n",
    "    'cache': 0.4,\n",
    "    'active': 0.3\n",
    "}\n",
    "\n",
    "candidates = [\n",
    "    {'name': \"test01\", 'value': 0},\n",
    "    {'name': \"test03\", 'value': 0},\n",
    "    {'name': \"test04\", 'value': 0},\n",
    "    {'name': \"test05\", 'value': 0}\n",
    "]"
   ]
  },
  {
   "cell_type": "markdown",
   "metadata": {},
   "source": [
    "# Wechat Closeness Caculation"
   ]
  },
  {
   "cell_type": "code",
   "execution_count": 19,
   "metadata": {},
   "outputs": [
    {
     "name": "stdout",
     "output_type": "stream",
     "text": [
      "0.3\n",
      "0.4\n",
      "0.3\n"
     ]
    },
    {
     "data": {
      "text/plain": [
       "[{'name': 'test01',\n",
       "  'hhh': 232,\n",
       "  'cache': 23.1,\n",
       "  'active': 24,\n",
       "  'value': 86.03999999999999},\n",
       " {'name': 'test02', 'hhh': 12, 'cache': 12, 'active': 3, 'value': 9.3},\n",
       " {'name': 'test03', 'hhh': 123, 'cache': 7, 'active': 14, 'value': 43.9},\n",
       " {'name': 'test04',\n",
       "  'hhh': 85,\n",
       "  'cache': 31,\n",
       "  'active': 21,\n",
       "  'value': 44.199999999999996},\n",
       " {'name': 'test05', 'hhh': 300, 'cache': 25.4, 'active': 3, 'value': 101.06}]"
      ]
     },
     "execution_count": 19,
     "metadata": {},
     "output_type": "execute_result"
    }
   ],
   "source": [
    "def closeness(obj, weight): \n",
    "    for friend in obj:\n",
    "        value = 0;\n",
    "        for tag in weight:\n",
    "            value += weight[tag]*friend[tag];\n",
    "        friend['value'] = value;\n",
    "    return obj\n",
    "\n",
    "for i in weight: {\n",
    "    print(weight[i])\n",
    "}\n",
    "\n",
    "closeness(friends,weight)\n",
    "\n",
    "friends"
   ]
  },
  {
   "cell_type": "markdown",
   "metadata": {},
   "source": [
    "# Calculation Exchange\n",
    "\n",
    "this is a very time consuming way\n",
    "\n",
    "I want to use `map` but this method not work for list object"
   ]
  },
  {
   "cell_type": "code",
   "execution_count": 32,
   "metadata": {},
   "outputs": [
    {
     "data": {
      "text/plain": [
       "[{'name': 'test01', 'value': 86.03999999999999},\n",
       " {'name': 'test03', 'value': 43.9},\n",
       " {'name': 'test04', 'value': 44.199999999999996},\n",
       " {'name': 'test05', 'value': 101.06}]"
      ]
     },
     "execution_count": 32,
     "metadata": {},
     "output_type": "execute_result"
    }
   ],
   "source": [
    "def exchage(cands, objs):\n",
    "    for cand in cands:\n",
    "        for fri in objs:\n",
    "            if cand['name'] == fri['name']:\n",
    "                cand['value'] = fri['value']\n",
    "                break\n",
    "    return cands\n",
    "\n",
    "exchage(candidates, friends)\n",
    "\n",
    "candidates"
   ]
  }
 ],
 "metadata": {
  "kernelspec": {
   "display_name": "Python 3",
   "language": "python",
   "name": "python3"
  },
  "language_info": {
   "codemirror_mode": {
    "name": "ipython",
    "version": 3
   },
   "file_extension": ".py",
   "mimetype": "text/x-python",
   "name": "python",
   "nbconvert_exporter": "python",
   "pygments_lexer": "ipython3",
   "version": "3.6.6"
  }
 },
 "nbformat": 4,
 "nbformat_minor": 2
}
