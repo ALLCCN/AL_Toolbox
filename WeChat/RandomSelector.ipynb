{
 "cells": [
  {
   "cell_type": "markdown",
   "metadata": {},
   "source": [
    "# Init data"
   ]
  },
  {
   "cell_type": "code",
   "execution_count": 128,
   "metadata": {},
   "outputs": [],
   "source": [
    "import random"
   ]
  },
  {
   "cell_type": "code",
   "execution_count": 117,
   "metadata": {},
   "outputs": [],
   "source": [
    "candidates = [\n",
    "    {'name': \"test01\", 'weight': 86.0},\n",
    "    {'name': \"test03\", 'weight': 43.0},\n",
    "    {'name': \"test04\", 'weight': 41.0},\n",
    "    {'name': \"test05\", 'weight': 101.0}\n",
    "]\n",
    "\n",
    "min_prob = 0.10\n",
    "max_prob = 0.35\n",
    "param_set = [max_prob, min_prob]\n",
    "max_important = True"
   ]
  },
  {
   "cell_type": "markdown",
   "metadata": {},
   "source": [
    "# Parameter Checks\n",
    "This step is to check the availability of the parameter not larger or smaller than 1/n "
   ]
  },
  {
   "cell_type": "code",
   "execution_count": 10,
   "metadata": {},
   "outputs": [
    {
     "data": {
      "text/plain": [
       "True"
      ]
     },
     "execution_count": 10,
     "metadata": {},
     "output_type": "execute_result"
    }
   ],
   "source": [
    "def paramCheck(data,param):\n",
    "    num_cands = len(data)\n",
    "    if (param[0] != 0):\n",
    "        if (param[0] < 1/num_cands) | (param[0] > 1):\n",
    "            return False\n",
    "    if (param[1] != 0):\n",
    "        if (param[1] > 1/num_cands) | (param[1] < 0):\n",
    "            return False\n",
    "    return True\n",
    "    \n",
    "paramCheck(candidates,param_set)"
   ]
  },
  {
   "cell_type": "markdown",
   "metadata": {},
   "source": [
    "# Probability Calculations\n",
    "The first important thing is to check which limits (`max/min_prob`) we perfer to use, cause use both limits might lead to a conflict."
   ]
  },
  {
   "cell_type": "code",
   "execution_count": 119,
   "metadata": {},
   "outputs": [],
   "source": [
    "def probCalculation(data,param,imp=False):\n",
    "    result = []\n",
    "    default_sum = sum(map(lambda i: i['weight'],data))\n",
    "    param_set = [param,default_sum]\n",
    "    init_left_prob = 1\n",
    "    if (imp):\n",
    "        probCalculationMax(data,param_set,result,init_left_prob)\n",
    "    else:\n",
    "        probCalculationMin(data,param_set,result,init_left_prob)\n",
    "    return result"
   ]
  },
  {
   "cell_type": "code",
   "execution_count": 120,
   "metadata": {},
   "outputs": [],
   "source": [
    "def probCalculationMax(data,param,result,left_prob):\n",
    "    max_weight = max(map(lambda i: i['weight'],data))\n",
    "    max_prob = param[0][0]\n",
    "    if ((max_weight/param[1]) >= max_prob):\n",
    "        the_cand = list(filter(lambda i: i['weight'] == max_weight,data))\n",
    "        new_data = list(filter(lambda i: i['weight'] != max_weight,data))\n",
    "        result.append({'name': the_cand[0]['name'], 'prob': max_prob})\n",
    "        probCalculationMax(new_data,param,result,left_prob-max_prob)\n",
    "    else:\n",
    "        probCalculationNom(data,param,result,left_prob)"
   ]
  },
  {
   "cell_type": "code",
   "execution_count": 121,
   "metadata": {},
   "outputs": [],
   "source": [
    "def probCalculationMin(data,param,result,left_prob):\n",
    "    min_weight = min(map(lambda i: i['weight'],data))\n",
    "    min_prob = param[0][1]\n",
    "    if ((min_weight/param[1]) <= param[1]):\n",
    "        the_cand = list(filter(lambda i: i['weight'] == min_weight,data))\n",
    "        new_data = list(filter(lambda i: i['weight'] != min_weight,data))\n",
    "        result.append({'name': the_cand[0]['name'], 'prob': min_prob})\n",
    "        probCalculationMax(new_data,param,result,left_prob-min_prob)\n",
    "    else:\n",
    "        probCalculationNom(data,param,result,left_prob)"
   ]
  },
  {
   "cell_type": "code",
   "execution_count": 122,
   "metadata": {},
   "outputs": [],
   "source": [
    "def probCalculationNom(data,param,result,left_prob):\n",
    "    sum_weight = sum(map(lambda i: i['weight'],data))\n",
    "    for i in data:\n",
    "        result.append({'name': i['name'], 'prob': left_prob*i['weight']/sum_weight})"
   ]
  },
  {
   "cell_type": "code",
   "execution_count": 123,
   "metadata": {},
   "outputs": [
    {
     "data": {
      "text/plain": [
       "[{'name': 'test05', 'prob': 0.35},\n",
       " {'name': 'test01', 'prob': 0.3288235294117647},\n",
       " {'name': 'test03', 'prob': 0.16441176470588234},\n",
       " {'name': 'test04', 'prob': 0.15676470588235294}]"
      ]
     },
     "execution_count": 123,
     "metadata": {},
     "output_type": "execute_result"
    }
   ],
   "source": [
    "probCalculation(candidates,param_set,max_important)"
   ]
  },
  {
   "cell_type": "markdown",
   "metadata": {},
   "source": [
    "# Random Selector\n",
    "with weights"
   ]
  },
  {
   "cell_type": "code",
   "execution_count": 172,
   "metadata": {},
   "outputs": [],
   "source": [
    "def randomSelector(data,num,method='times'):\n",
    "    results = set()\n",
    "    histories = []\n",
    "    name_list = list(map(lambda i: i['name'],data))\n",
    "    weight_list = list(map(lambda i: i['prob'],data))\n",
    "    if method == 'times':\n",
    "        i = 0\n",
    "        while i < num:\n",
    "            choice = random.choices(name_list,weights=weight_list,k=1)[0]\n",
    "            results.add(choice)\n",
    "            histories.append(choice)\n",
    "            i = i+1\n",
    "    elif method == 'number':\n",
    "        while len(results) < num:\n",
    "            choice = random.choices(name_list,weights=weight_list,k=1)[0]\n",
    "            results.add(choice)\n",
    "            histories.append(choice)\n",
    "    else:\n",
    "        print('no input')\n",
    "    return results,histories"
   ]
  },
  {
   "cell_type": "code",
   "execution_count": 221,
   "metadata": {},
   "outputs": [
    {
     "name": "stdout",
     "output_type": "stream",
     "text": [
      "Our lucky guy(s):\n",
      "\n",
      "test05\n",
      "test03\n",
      "test01\n",
      "\n",
      "\n",
      "And the history of selections:\n",
      "test03\n",
      "test05\n",
      "test01\n"
     ]
    }
   ],
   "source": [
    "candidates_with_weights = probCalculation(candidates,param_set,max_important)\n",
    "results = randomSelector(candidates_with_weights,3,'number')\n",
    "print('Our lucky guy(s):\\n')\n",
    "for i in results[0]:\n",
    "    print(i)\n",
    "print('\\n\\nAnd the history of selections:')\n",
    "for i in results[1]:\n",
    "    print(i)"
   ]
  }
 ],
 "metadata": {
  "kernelspec": {
   "display_name": "Python 3",
   "language": "python",
   "name": "python3"
  },
  "language_info": {
   "codemirror_mode": {
    "name": "ipython",
    "version": 3
   },
   "file_extension": ".py",
   "mimetype": "text/x-python",
   "name": "python",
   "nbconvert_exporter": "python",
   "pygments_lexer": "ipython3",
   "version": "3.6.8"
  }
 },
 "nbformat": 4,
 "nbformat_minor": 2
}
